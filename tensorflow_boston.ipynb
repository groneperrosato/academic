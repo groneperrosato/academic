{
  "cells": [
    {
      "cell_type": "markdown",
      "metadata": {
        "id": "view-in-github",
        "colab_type": "text"
      },
      "source": [
        "<a href=\"https://colab.research.google.com/github/groneperrosato/academic/blob/main/tensorflow_boston.ipynb\" target=\"_parent\"><img src=\"https://colab.research.google.com/assets/colab-badge.svg\" alt=\"Open In Colab\"/></a>"
      ]
    },
    {
      "cell_type": "markdown",
      "id": "f430cc82-0e07-4345-b40c-3a1e22de51ff",
      "metadata": {
        "id": "f430cc82-0e07-4345-b40c-3a1e22de51ff"
      },
      "source": [
        "<h1><font color=\"#113D68\" size=5>Redes neuronales y deep learning</font></h1>\n",
        "\n",
        "\n",
        "\n",
        "<h1><font color=\"#113D68\" size=6>Actividad Semana 2</font></h1>\n",
        "\n",
        "\n",
        "<br><br>\n",
        "<div style=\"text-align: right\">\n",
        "<font size=3>Pedro Sergey Toledo Bordón</font><br>\n",
        "<font size=3>Semana 2: Frameworks de Deep Learning: TensorFlow</font><br>\n",
        "<font size=3>IEBS</font>\n",
        "</div>\n",
        "\n",
        "---\n"
      ]
    },
    {
      "cell_type": "code",
      "execution_count": null,
      "id": "e063b23e-4fb9-42ea-b062-48b9657a0acd",
      "metadata": {
        "id": "e063b23e-4fb9-42ea-b062-48b9657a0acd"
      },
      "outputs": [],
      "source": [
        "# importamos algunas de las librerias necesarias\n",
        "\n",
        "import tensorflow as tf\n",
        "import numpy as np\n",
        "import pandas as pd\n",
        "\n",
        "# Para mostrar gráficas\n",
        "\n",
        "import matplotlib.pyplot as plt\n",
        "%matplotlib inline"
      ]
    },
    {
      "cell_type": "markdown",
      "id": "d40e3b7d-55b2-42b3-b4da-eaa87194134f",
      "metadata": {
        "id": "d40e3b7d-55b2-42b3-b4da-eaa87194134f"
      },
      "source": [
        "En esta actividad vamos a seguir familiarizándonos con la herramienta *TensorFlow*, para ello vamos a utilizar un dataset donde tendréis que relizar todos los pasos (cargar datos, crear arquitectura de la red, etc.) vosotros mismos para prácticar con la sintásis de *TensorFlow*. Tenéis ejercicios obligatorios y un ejercicio opcional."
      ]
    },
    {
      "cell_type": "markdown",
      "id": "de54f626-f6cf-42fa-be32-ab61d1ffc665",
      "metadata": {
        "id": "de54f626-f6cf-42fa-be32-ab61d1ffc665"
      },
      "source": [
        "# <font color=\"#004D7F\" size=5>Ejercicio</font>\n",
        "Usando los datos sobre casas y sus precios realiza los ejercicios que se indican.\n",
        "\n",
        "La información de los datos podéis verla en este enlace:\n",
        "\n",
        "https://www.tensorflow.org/api_docs/python/tf/keras/datasets/boston_housing/load_data"
      ]
    },
    {
      "cell_type": "markdown",
      "id": "0065a136-f2af-4c6a-91e7-c47bf601ee80",
      "metadata": {
        "id": "0065a136-f2af-4c6a-91e7-c47bf601ee80"
      },
      "source": [
        "## <font color=\"#004D7F\" size=4>Ejercicio 1</font>\n",
        "Carga los datos como hemos visto en el notebook de los ejercicios donde tengas los conjuntos de train y test:"
      ]
    },
    {
      "cell_type": "code",
      "execution_count": null,
      "id": "c1832858-4155-43a9-aacd-5c55ddff2654",
      "metadata": {
        "id": "c1832858-4155-43a9-aacd-5c55ddff2654"
      },
      "outputs": [],
      "source": [
        "# importamos el dataset\n",
        "\n",
        "data = tf.keras.datasets.boston_housing\n",
        "\n",
        "# cargamos los datos\n",
        "\n",
        "(x_train, y_train), (x_test, y_test) = data.load_data()"
      ]
    },
    {
      "cell_type": "markdown",
      "id": "6e2c8d36-9f9c-4f07-9eed-85d1caa43f20",
      "metadata": {
        "id": "6e2c8d36-9f9c-4f07-9eed-85d1caa43f20"
      },
      "source": [
        "Explora los tamaños de cada conjunto:"
      ]
    },
    {
      "cell_type": "code",
      "execution_count": null,
      "id": "e39f635a-cc03-4c31-abf9-af262db2fe1c",
      "metadata": {
        "colab": {
          "base_uri": "https://localhost:8080/"
        },
        "id": "e39f635a-cc03-4c31-abf9-af262db2fe1c",
        "outputId": "37a24a5c-d956-4d08-c7b2-d225a4d0db86"
      },
      "outputs": [
        {
          "output_type": "stream",
          "name": "stdout",
          "text": [
            "El tamaño de los conjuntos de entrenamiento son: \n",
            "(404, 13)\n",
            "(404,)\n",
            "\n",
            "El tamaño de los conjuntos de test son: \n",
            "(102, 13)\n",
            "(102,)\n",
            "\n",
            "El tamaño total de los datos es de: 506 observaciones.\n",
            "Divididas en un 79.84% para el conjunto de entrenamiento y un 20.16% para el conjunto de test.\n"
          ]
        }
      ],
      "source": [
        "# vemos el tamaño de cada conjunto\n",
        "\n",
        "print(\"El tamaño de los conjuntos de entrenamiento son: \")\n",
        "for i in [x_train, y_train]:\n",
        "   print (i.shape)\n",
        "\n",
        "print(\"\\nEl tamaño de los conjuntos de test son: \")\n",
        "for i in [x_test, y_test]:\n",
        "   print (i.shape)\n",
        "\n",
        "data_total_size = x_test.shape[0] + x_train.shape[0]\n",
        "\n",
        "print(f'\\nEl tamaño total de los datos es de: {data_total_size} observaciones.')\n",
        "print(f\"Divididas en un {round(x_train.shape[0] / data_total_size * 100, 2)}% para el conjunto de entrenamiento\",\n",
        "      f\"y un {round(x_test.shape[0] / data_total_size * 100, 2)}% para el conjunto de test.\")\n"
      ]
    },
    {
      "cell_type": "markdown",
      "source": [
        "Podemos ver que tenemos un total de 506 observaciones, el 80 % pertenecen al conjunto de entrenamiento, mientras que el resto pertenecen al de test.\n",
        "\n",
        "Vamos a hacernos una idea de como son los datos con los que estamos trabajando.\n",
        "\n",
        "Para ello, vamos a necesitar crear un dataset, ya que actualmente solo disponemos de los datos en formato array.\n",
        "\n",
        "Debido a que el dataset boston no está disponible actualmente en scikit-learn, procederemos a importar de manera manual las columnas desde [la fuente original de datos](http://lib.stat.cmu.edu/datasets/boston)."
      ],
      "metadata": {
        "id": "tDfi4Gu5G7pG"
      },
      "id": "tDfi4Gu5G7pG"
    },
    {
      "cell_type": "code",
      "source": [
        "# creamos las columnas \n",
        "\n",
        "columns =  [\"CRIM\", \"ZN\", \"INDUS\", \"CHAS\", \"NOW\", \"RM\", \"AGE\", \"DIS\", \"RAD\", \"TAX\", \"PTRATIO\", \"B\", \"LSTAT\"]\n",
        "\n",
        "target = [\"MEDV\"]\n",
        "\n",
        "# constrimos nuestro dataset\n",
        "\n",
        "features_dataset_train = pd.DataFrame(data = x_train,\n",
        "                                      columns = columns)\n",
        "\n",
        "features_dataset_test = pd.DataFrame(data = x_test,\n",
        "                                      columns = columns)\n",
        "\n",
        "target_dataset_train = pd.DataFrame(data = y_train,\n",
        "                                      columns = target)\n",
        "\n",
        "target_dataset_test = pd.DataFrame(data = y_test,\n",
        "                                      columns = target)\n",
        "\n",
        "features_dataset = pd.concat([features_dataset_train, features_dataset_test],\n",
        "                            ignore_index = True)\n",
        "\n",
        "target_dataset = pd.concat([target_dataset_train, target_dataset_test],\n",
        "                            ignore_index = True)\n",
        "\n",
        "dataset = pd.concat([features_dataset, target_dataset],\n",
        "                    axis = 1)"
      ],
      "metadata": {
        "id": "6K-wXX6eG55U"
      },
      "id": "6K-wXX6eG55U",
      "execution_count": null,
      "outputs": []
    },
    {
      "cell_type": "markdown",
      "source": [
        "Cada una de las columnas corresponden a:\n",
        "\n",
        "- CRIM     per capita crime rate by town\n",
        "- ZN       proportion of residential land zoned for lots over 25,000 sq.ft.\n",
        "- INDUS    proportion of non-retail business acres per town\n",
        "- CHAS     Charles River dummy variable (= 1 if tract bounds river; 0 otherwise)\n",
        "- NOX      nitric oxides concentration (parts per 10 million)\n",
        "- RM       average number of rooms per dwelling\n",
        "- AGE      proportion of owner-occupied units built prior to 1940\n",
        "- DIS      weighted distances to five Boston employment centres\n",
        "- RAD      index of accessibility to radial highways\n",
        "- TAX      full-value property-tax rate per 10,000 dollars\n",
        "- PTRATIO  pupil-teacher ratio by town\n",
        "- B        1000 (Bk - 0.63) ^ 2 where Bk is the proportion of blacks by town\n",
        "- LSTAT    % lower status of the population\n",
        "- MEDV     Median value of owner-occupied homes in $1000's\n",
        "\n",
        "Por lo que podemos decir que nos encontramos ante un conjunto de datos donde tenemos 13 variables que corresponden a datos relacionados con las propiedades más la variable objetivo (MEDV)."
      ],
      "metadata": {
        "id": "8S_NFzrCLV2n"
      },
      "id": "8S_NFzrCLV2n"
    },
    {
      "cell_type": "markdown",
      "id": "0fa5f367-e962-4b9d-9efd-0d516f479775",
      "metadata": {
        "id": "0fa5f367-e962-4b9d-9efd-0d516f479775"
      },
      "source": [
        "## <font color=\"#004D7F\" size=4>Ejercicio 2</font>\n",
        "Crear una red con la siguiente configuración y entrénala:\n",
        "\n",
        "- **Configuración de la red**:\n",
        "    - Arquitectura de la red:\n",
        "        - *1º Capa*: capa de entrada donde indiques la dimensión de los datos.\n",
        "        - *2º Capa*: capa densa con 8 neuronas y función de activación *relu*.\n",
        "        - *3º Capa*: capa densa con 8 neuronas y función de activación *relu*.\n",
        "        - *4º Capa*: capa de salida con una neurona sin función de activación.\n",
        "    - Tipo de entrenamiento:\n",
        "        - *Epochs*: 100\n",
        "        - *Optimizador*: *adam*\n",
        "        - *Learning Rate*: 0.001\n",
        "        - *Función de error*: error cuadrático medio (*mean_squared_error*)"
      ]
    },
    {
      "cell_type": "code",
      "execution_count": null,
      "id": "9d5ed16f-7c70-4f15-900d-edc65f766d48",
      "metadata": {
        "id": "9d5ed16f-7c70-4f15-900d-edc65f766d48"
      },
      "outputs": [],
      "source": [
        "# creamos la arquitectura de red\n",
        "\n",
        "neura = tf.keras.Sequential([\n",
        "    tf.keras.layers.InputLayer(input_shape= (13,)),\n",
        "    tf.keras.layers.Dense(8, activation = \"relu\"),\n",
        "    tf.keras.layers.Dense(8, activation = \"relu\"),\n",
        "    tf.keras.layers.Dense(1)                 \n",
        "    ],\n",
        "    name = \"Neurona_ejercicio2\")"
      ]
    },
    {
      "cell_type": "code",
      "source": [
        "# vemos lo que hemos creado\n",
        "\n",
        "neura.summary()"
      ],
      "metadata": {
        "colab": {
          "base_uri": "https://localhost:8080/"
        },
        "id": "TyVF09W3ZVDS",
        "outputId": "6182513f-7f0b-4ed5-88c8-6567342c8af7"
      },
      "id": "TyVF09W3ZVDS",
      "execution_count": null,
      "outputs": [
        {
          "output_type": "stream",
          "name": "stdout",
          "text": [
            "Model: \"Neurona_ejercicio2\"\n",
            "_________________________________________________________________\n",
            " Layer (type)                Output Shape              Param #   \n",
            "=================================================================\n",
            " dense (Dense)               (None, 8)                 112       \n",
            "                                                                 \n",
            " dense_1 (Dense)             (None, 8)                 72        \n",
            "                                                                 \n",
            " dense_2 (Dense)             (None, 1)                 9         \n",
            "                                                                 \n",
            "=================================================================\n",
            "Total params: 193\n",
            "Trainable params: 193\n",
            "Non-trainable params: 0\n",
            "_________________________________________________________________\n"
          ]
        }
      ]
    },
    {
      "cell_type": "code",
      "source": [
        "# optimizamos el modelo\n",
        "\n",
        "opt = tf.keras.optimizers.Adam(learning_rate = 0.001)\n",
        "\n",
        "neura.compile(optimizer = opt,\n",
        "               loss = \"mean_squared_error\",\n",
        "               metrics = [\"mean_squared_error\"])"
      ],
      "metadata": {
        "id": "Un5bfS8BZMqM"
      },
      "id": "Un5bfS8BZMqM",
      "execution_count": null,
      "outputs": []
    },
    {
      "cell_type": "code",
      "source": [
        "# entrenamos nuestro modelo\n",
        "\n",
        "hist_neura = neura.fit(x = x_train,\n",
        "                      y = y_train,\n",
        "                      validation_data = (x_test, y_test),\n",
        "                      epochs = 100,\n",
        "                      verbose = 0)"
      ],
      "metadata": {
        "id": "rFI1ULsOaKyf"
      },
      "id": "rFI1ULsOaKyf",
      "execution_count": null,
      "outputs": []
    },
    {
      "cell_type": "markdown",
      "id": "3832f4d5-90ca-4525-9e43-303ab23734a3",
      "metadata": {
        "id": "3832f4d5-90ca-4525-9e43-303ab23734a3"
      },
      "source": [
        "Evalúa el modelo usando la función *evaluate* para el conjunto de test:"
      ]
    },
    {
      "cell_type": "code",
      "source": [
        "# evaluamos el modelo\n",
        "\n",
        "neura_eval = neura.evaluate(x_test, y_test)"
      ],
      "metadata": {
        "colab": {
          "base_uri": "https://localhost:8080/"
        },
        "id": "OaYBD3rGbf3a",
        "outputId": "4074873f-85b7-4574-c801-a154d9cb61e8"
      },
      "id": "OaYBD3rGbf3a",
      "execution_count": null,
      "outputs": [
        {
          "output_type": "stream",
          "name": "stdout",
          "text": [
            "4/4 [==============================] - 0s 7ms/step - loss: 54.7104 - mean_squared_error: 54.7104\n"
          ]
        }
      ]
    },
    {
      "cell_type": "code",
      "source": [
        "# miramos cual sería el error cuadrático y el abosluto\n",
        "\n",
        "import math \n",
        "\n",
        "print(f\"El error cuadrático medio es de: {neura_eval[0]}, y el error absoluto medio: {math.sqrt(neura_eval[0])}.\")"
      ],
      "metadata": {
        "colab": {
          "base_uri": "https://localhost:8080/"
        },
        "id": "BygZSi9WLh5g",
        "outputId": "88841c0c-bd09-4e72-b9f2-ad98ce9f4b4d"
      },
      "id": "BygZSi9WLh5g",
      "execution_count": null,
      "outputs": [
        {
          "output_type": "stream",
          "name": "stdout",
          "text": [
            "El error cuadrático medio es de: 54.710391998291016, y el error absoluto medio: 7.3966473485148.\n"
          ]
        }
      ]
    },
    {
      "cell_type": "markdown",
      "id": "e999c20e-d9a2-4235-9ddb-8f5f45ab3f8b",
      "metadata": {
        "id": "e999c20e-d9a2-4235-9ddb-8f5f45ab3f8b"
      },
      "source": [
        "## <font color=\"#004D7F\" size=4>Ejercicio 3</font>\n",
        "Crear una red con la siguiente configuración y entrénala:\n",
        "\n",
        "- **Configuración de la red**:\n",
        "    - Arquitectura de la red:\n",
        "        - *1º Capa*: capa de entrada donde indiques la dimensión de los datos.\n",
        "        - *2º Capa*: capa densa con 16 neuronas y función de activación *relu*.\n",
        "        - *3º Capa*: capa densa con 16 neuronas y función de activación *relu*.\n",
        "        - *4º Capa*: capa densa con 32 neuronas y función de activación *relu*.\n",
        "        - *4º Capa*: capa de salida con una neurona sin función de activación.   \n",
        "    - Tipo de entrenamiento:\n",
        "        - *Epochs*: 300\n",
        "        - *Optimizador*: *adam*\n",
        "        - *Learning Rate*: 0.0001\n",
        "        - *Función de error*: error cuadrático medio (*mean_squared_error*)"
      ]
    },
    {
      "cell_type": "code",
      "execution_count": null,
      "id": "3f651199-2bc7-46e6-a44f-f2ec0856b6c5",
      "metadata": {
        "id": "3f651199-2bc7-46e6-a44f-f2ec0856b6c5"
      },
      "outputs": [],
      "source": [
        "# creamos la arquitectura\n",
        "\n",
        "neura2 = tf.keras.Sequential([\n",
        "    tf.keras.layers.Input(shape = (13,)),\n",
        "    tf.keras.layers.Dense(16, activation = \"relu\"),\n",
        "    tf.keras.layers.Dense(16, activation = \"relu\"),\n",
        "    tf.keras.layers.Dense(32, activation = \"relu\"),\n",
        "    tf.keras.layers.Dense(1)\n",
        "],\n",
        "name = \"Neurona_ejercicio3\")"
      ]
    },
    {
      "cell_type": "code",
      "source": [
        "# modificamos el tipo de entrenamiento\n",
        "\n",
        "opt2 = tf.keras.optimizers.Adam(\n",
        "    learning_rate = 0.0001\n",
        ")\n",
        "\n",
        "neura2.compile(\n",
        "    optimizer = opt2,\n",
        "    loss = \"mean_squared_error\",\n",
        "    metrics = [\"mean_squared_error\"]\n",
        ")"
      ],
      "metadata": {
        "id": "AyU2wI5qOrlq"
      },
      "id": "AyU2wI5qOrlq",
      "execution_count": null,
      "outputs": []
    },
    {
      "cell_type": "code",
      "source": [
        "# entrenamos el modelo con los datos de entrenamiento\n",
        "\n",
        "hist_neura2 = neura2.fit(\n",
        "    x = x_train,\n",
        "    y = y_train,\n",
        "    epochs = 300,\n",
        "    validation_data = (x_test, y_test),\n",
        "    verbose = 0\n",
        ")"
      ],
      "metadata": {
        "id": "GWRovbQ6PDFY"
      },
      "id": "GWRovbQ6PDFY",
      "execution_count": null,
      "outputs": []
    },
    {
      "cell_type": "code",
      "source": [
        "len(hist_neura2.history[\"mean_squared_error\"])"
      ],
      "metadata": {
        "colab": {
          "base_uri": "https://localhost:8080/"
        },
        "id": "pP_EDWEQpLE6",
        "outputId": "b1a5f567-91d7-46d1-c990-ba46900b6a03"
      },
      "id": "pP_EDWEQpLE6",
      "execution_count": null,
      "outputs": [
        {
          "output_type": "execute_result",
          "data": {
            "text/plain": [
              "300"
            ]
          },
          "metadata": {},
          "execution_count": 14
        }
      ]
    },
    {
      "cell_type": "markdown",
      "id": "7d98a976-435d-4173-8cce-fdd7718d5e71",
      "metadata": {
        "id": "7d98a976-435d-4173-8cce-fdd7718d5e71"
      },
      "source": [
        "Evalúa el modelo usando la función *evaluate* para el conjunto de test:"
      ]
    },
    {
      "cell_type": "code",
      "execution_count": null,
      "id": "8f1b8c22-70b1-476a-9bc2-ea618df9f744",
      "metadata": {
        "id": "8f1b8c22-70b1-476a-9bc2-ea618df9f744",
        "colab": {
          "base_uri": "https://localhost:8080/"
        },
        "outputId": "a5a860f2-cdec-4afe-daef-180ec8e381c9"
      },
      "outputs": [
        {
          "output_type": "stream",
          "name": "stdout",
          "text": [
            "4/4 [==============================] - 0s 3ms/step - loss: 46.8957 - mean_squared_error: 46.8957\n",
            "El error cuadrático medio es de: 46.895748138427734, y el error absoluto medio: 7.3966473485148.\n"
          ]
        }
      ],
      "source": [
        "# evaluamos cual es el desempeño del modelo \n",
        "\n",
        "neura2_eval = neura2.evaluate(x_test, y_test)\n",
        "\n",
        "print(f\"El error cuadrático medio es de: {neura2_eval[0]}, y el error absoluto medio: {math.sqrt(neura_eval[0])}.\")"
      ]
    },
    {
      "cell_type": "markdown",
      "id": "4f863a66-3eb3-4d59-b075-7f6086447c06",
      "metadata": {
        "id": "4f863a66-3eb3-4d59-b075-7f6086447c06"
      },
      "source": [
        "## <font color=\"#004D7F\" size=4>Ejercicio 4</font>\n",
        "Crear una red con la siguiente configuración y entrénala:\n",
        "\n",
        "- **Configuración de la red**:\n",
        "    - Arquitectura de la red:\n",
        "        - *1º Capa*: capa de entrada donde indiques la dimensión de los datos.\n",
        "        - *2º Capa*: capa densa con 32 neuronas y función de activación *relu*.\n",
        "        - *3º Capa*: capa densa con 64 neuronas y función de activación *relu*.\n",
        "        - *4º Capa*: capa densa con 128 neuronas y función de activación *relu*.\n",
        "        - *4º Capa*: capa de salida con una neurona sin función de activación.   \n",
        "    - Tipo de entrenamiento:\n",
        "        - *Epochs*: 2OO\n",
        "        - *Optimizador*: *adam*\n",
        "        - *Learning Rate*: 0.001\n",
        "        - *Función de error*: error cuadrático medio (*mean_squared_error*)"
      ]
    },
    {
      "cell_type": "code",
      "execution_count": null,
      "id": "8d31c889-495f-48c2-8902-424a0d777287",
      "metadata": {
        "id": "8d31c889-495f-48c2-8902-424a0d777287",
        "colab": {
          "base_uri": "https://localhost:8080/"
        },
        "outputId": "17b7247d-48e8-485e-dcdb-e3ca0bde3eab"
      },
      "outputs": [
        {
          "output_type": "stream",
          "name": "stdout",
          "text": [
            "Model: \"Neurona_ejercicio4\"\n",
            "_________________________________________________________________\n",
            " Layer (type)                Output Shape              Param #   \n",
            "=================================================================\n",
            " dense_7 (Dense)             (None, 32)                448       \n",
            "                                                                 \n",
            " dense_8 (Dense)             (None, 64)                2112      \n",
            "                                                                 \n",
            " dense_9 (Dense)             (None, 128)               8320      \n",
            "                                                                 \n",
            " dense_10 (Dense)            (None, 1)                 129       \n",
            "                                                                 \n",
            "=================================================================\n",
            "Total params: 11,009\n",
            "Trainable params: 11,009\n",
            "Non-trainable params: 0\n",
            "_________________________________________________________________\n"
          ]
        }
      ],
      "source": [
        "# creamos la red\n",
        "\n",
        "neura3 = tf.keras.Sequential(\n",
        "    name = \"Neurona_ejercicio4\"\n",
        ")\n",
        "\n",
        "neura3.add(tf.keras.layers.Input(shape = (13,)))\n",
        "neura3.add(tf.keras.layers.Dense(32, activation = \"relu\"))\n",
        "neura3.add(tf.keras.layers.Dense(64, activation = \"relu\"))\n",
        "neura3.add(tf.keras.layers.Dense(128, activation = \"relu\"))\n",
        "neura3.add(tf.keras.layers.Dense(1))\n",
        "\n",
        "# vemos la red que acabamos de crear\n",
        "\n",
        "neura3.summary()"
      ]
    },
    {
      "cell_type": "code",
      "source": [
        "# configuramos la arquitectura\n",
        "\n",
        "opt3 = tf.keras.optimizers.Adam(\n",
        "    learning_rate = 0.001\n",
        ")\n",
        "\n",
        "neura3.compile(\n",
        "    optimizer = opt3,\n",
        "    loss = \"mean_squared_error\",\n",
        "    metrics = [\"mean_squared_error\"]\n",
        ")"
      ],
      "metadata": {
        "id": "63o2PcW7jJs_"
      },
      "id": "63o2PcW7jJs_",
      "execution_count": null,
      "outputs": []
    },
    {
      "cell_type": "code",
      "source": [
        "# entrenamos la neurona\n",
        "\n",
        "hist_neura3 = neura3.fit(\n",
        "    x = x_train,\n",
        "    y = y_train,\n",
        "    epochs = 200,\n",
        "    validation_data = (x_test, y_test),\n",
        "    verbose = 0\n",
        ")"
      ],
      "metadata": {
        "id": "to5g90CpkZLG"
      },
      "id": "to5g90CpkZLG",
      "execution_count": null,
      "outputs": []
    },
    {
      "cell_type": "markdown",
      "id": "0bf8068a-d59d-4caf-a987-0add18e11964",
      "metadata": {
        "id": "0bf8068a-d59d-4caf-a987-0add18e11964"
      },
      "source": [
        "Evalúa el modelo usando la función *evaluate* para el conjunto de test:"
      ]
    },
    {
      "cell_type": "code",
      "source": [
        "# evaluamos cual es el desempeño del modelo \n",
        "\n",
        "neura3_eval = neura3.evaluate(x_test, y_test)\n",
        "\n",
        "print(f\"El error cuadrático medio es de: {neura3_eval[0]}, y el error absoluto medio: {math.sqrt(neura3_eval[0])}.\")"
      ],
      "metadata": {
        "colab": {
          "base_uri": "https://localhost:8080/"
        },
        "id": "A8d_su87kj4S",
        "outputId": "5d646eba-e879-4163-ea5e-50111b26c57a"
      },
      "id": "A8d_su87kj4S",
      "execution_count": null,
      "outputs": [
        {
          "output_type": "stream",
          "name": "stdout",
          "text": [
            "4/4 [==============================] - 0s 2ms/step - loss: 26.8679 - mean_squared_error: 26.8679\n",
            "El error cuadrático medio es de: 26.86786651611328, y el error absoluto medio: 5.183422278390338.\n"
          ]
        }
      ]
    },
    {
      "cell_type": "markdown",
      "id": "22d5229a-67db-44b9-ace7-a7878b6ca373",
      "metadata": {
        "id": "22d5229a-67db-44b9-ace7-a7878b6ca373"
      },
      "source": [
        "## <font color=\"#004D7F\" size=4>Ejercicio 5</font>\n",
        "Compara los resultados obtenidos en cada uno de los modelos entrenados y quédate con el mejor. **Justifica tu respuesta**.\n",
        "\n",
        "El resultado no tiene porqué ser el mismo ya que los entrenamientos son aleatorios, pero un posible resultado podría ser este:"
      ]
    },
    {
      "cell_type": "markdown",
      "id": "c89f9903-386a-4d07-8e1a-ced7a926fe17",
      "metadata": {
        "id": "c89f9903-386a-4d07-8e1a-ced7a926fe17"
      },
      "source": [
        "```\n",
        "- Modelo 1: 83.3437 MSE\n",
        "- Modelo 2: 51.6446 MSE\n",
        "- Modelo 3: 27.6275 MSE\n",
        "```"
      ]
    },
    {
      "cell_type": "code",
      "source": [
        "print(\"Los resultados obtenidos en cada uno de los modelos entrenados han sido: \\n\")\n",
        "print(f\"- Modelo 1: {round(neura_eval[0], 4)} MSE\\n\")\n",
        "print(f\"- Modelo 2: {round(neura2_eval[0], 4)} MSE\\n\")\n",
        "print(f\"- Modelo 3: {round(neura3_eval[0], 4)} MSE\")\n",
        "\n"
      ],
      "metadata": {
        "colab": {
          "base_uri": "https://localhost:8080/"
        },
        "id": "FutfLamJmfeG",
        "outputId": "4df666cb-b412-443c-fafc-e79915263032"
      },
      "id": "FutfLamJmfeG",
      "execution_count": null,
      "outputs": [
        {
          "output_type": "stream",
          "name": "stdout",
          "text": [
            "Los resultados obtenidos en cada uno de los modelos entrenados han sido: \n",
            "\n",
            "- Modelo 1: 54.7104 MSE\n",
            "\n",
            "- Modelo 2: 46.8957 MSE\n",
            "\n",
            "- Modelo 3: 26.8679 MSE\n"
          ]
        }
      ]
    },
    {
      "cell_type": "code",
      "source": [
        "print(\"Y el error gráficamente se ve:\\n\")\n",
        "\n",
        "plt.figure(figsize = (10,8))\n",
        "\n",
        "plt.plot(hist_neura.history[\"val_mean_squared_error\"], label = \"Modelo 1\")\n",
        "plt.plot(hist_neura2.history[\"val_mean_squared_error\"], label = \"Modelo 2\")\n",
        "plt.plot(hist_neura3.history[\"val_mean_squared_error\"], label = \"Modelo 3\")\n",
        "\n",
        "plt.ylim(0,150)\n",
        "plt.legend(title = \"Mean_squared_error\", loc = \"upper right\")\n",
        "plt.title(\"Error cuadrático medio por modelo\")\n",
        "\n",
        "plt.show()"
      ],
      "metadata": {
        "colab": {
          "base_uri": "https://localhost:8080/",
          "height": 716
        },
        "id": "aTNjH7DZn753",
        "outputId": "17582950-43bc-4347-cb5b-37825039ae85"
      },
      "id": "aTNjH7DZn753",
      "execution_count": null,
      "outputs": [
        {
          "output_type": "stream",
          "name": "stdout",
          "text": [
            "Y el error gráficamente se ve:\n"
          ]
        },
        {
          "output_type": "display_data",
          "data": {
            "text/plain": [
              "<Figure size 1000x800 with 1 Axes>"
            ],
            "image/png": "[encoded data removed]"
          },
          "metadata": {}
        }
      ]
    },
    {
      "cell_type": "markdown",
      "source": [
        "Entre los tres modelos entrenados, he decidio quedarme con el 3. Esta decisión esta fundamentada principalmente por que es el modelo que ofrece un menor error."
      ],
      "metadata": {
        "id": "h2qFeKQVzh_z"
      },
      "id": "h2qFeKQVzh_z"
    },
    {
      "cell_type": "markdown",
      "id": "369c1a62-eaa4-4675-a420-efa9234b3aa2",
      "metadata": {
        "id": "369c1a62-eaa4-4675-a420-efa9234b3aa2"
      },
      "source": [
        "Además guarda el mejor modelo en formato *.h5* usando la función `save`:"
      ]
    },
    {
      "cell_type": "code",
      "execution_count": null,
      "id": "61318350-58e2-4c16-a52c-6c8ef45c7e4f",
      "metadata": {
        "id": "61318350-58e2-4c16-a52c-6c8ef45c7e4f"
      },
      "outputs": [],
      "source": [
        "# guardamos el modelo\n",
        "\n",
        "tf.keras.models.save_model(neura3, \"best_neuron.h5\")"
      ]
    },
    {
      "cell_type": "markdown",
      "id": "ad03f160-31ef-4323-aea7-01aaa57c8838",
      "metadata": {
        "id": "ad03f160-31ef-4323-aea7-01aaa57c8838"
      },
      "source": [
        "## <font color=\"#004D7F\" size=4>Ejercicio 6 (Opcional)</font>\n",
        "Carga el mejor modelo que has guardado en el ejercicio anterior usando la función `load_model` y realizar predicciones usando la función `predict`.\n",
        "\n",
        "Para realizar las predicciones usa 10 datos cualquier del conjunto de test:"
      ]
    },
    {
      "cell_type": "code",
      "execution_count": null,
      "id": "3fb96de1-9658-401e-b73c-e9de7e4ab376",
      "metadata": {
        "id": "3fb96de1-9658-401e-b73c-e9de7e4ab376"
      },
      "outputs": [],
      "source": [
        "# cargamos el modelo\n",
        "\n",
        "model = tf.keras.models.load_model(\"best_neuron.h5\")"
      ]
    },
    {
      "cell_type": "code",
      "source": [
        "# hacemos las predicciones de 10 elementos aleatorios de nuestro conjunto de test\n",
        "\n",
        "index = np.random.randint(len(x_test), size = 10)\n",
        "\n",
        "for i in index:\n",
        "  predict = model.predict(x_test[i].reshape(1,13),\n",
        "                          verbose = 0)\n",
        "  \n",
        "  print(f\"Para el índice {i}, la predicción es de: {predict[0][0]}\")"
      ],
      "metadata": {
        "colab": {
          "base_uri": "https://localhost:8080/"
        },
        "id": "mdBeL5wUreF3",
        "outputId": "94c87195-90fc-4088-a05d-081958e402dd"
      },
      "id": "mdBeL5wUreF3",
      "execution_count": null,
      "outputs": [
        {
          "output_type": "stream",
          "name": "stdout",
          "text": [
            "Para el índice 48, la predicción es de: 24.222736358642578\n",
            "Para el índice 37, la predicción es de: 13.213401794433594\n",
            "Para el índice 11, la predicción es de: 18.73687171936035\n",
            "Para el índice 45, la predicción es de: 21.637712478637695\n",
            "Para el índice 29, la predicción es de: 23.958038330078125\n",
            "Para el índice 72, la predicción es de: 19.48365020751953\n",
            "Para el índice 17, la predicción es de: 21.730911254882812\n",
            "Para el índice 100, la predicción es de: 29.47441864013672\n",
            "Para el índice 68, la predicción es de: 15.443258285522461\n",
            "Para el índice 8, la predicción es de: 18.914682388305664\n"
          ]
        }
      ]
    }
  ],
  "metadata": {
    "kernelspec": {
      "display_name": "Python 3 (ipykernel)",
      "language": "python",
      "name": "python3"
    },
    "language_info": {
      "codemirror_mode": {
        "name": "ipython",
        "version": 3
      },
      "file_extension": ".py",
      "mimetype": "text/x-python",
      "name": "python",
      "nbconvert_exporter": "python",
      "pygments_lexer": "ipython3",
      "version": "3.8.8"
    },
    "colab": {
      "provenance": [],
      "include_colab_link": true
    }
  },
  "nbformat": 4,
  "nbformat_minor": 5
}